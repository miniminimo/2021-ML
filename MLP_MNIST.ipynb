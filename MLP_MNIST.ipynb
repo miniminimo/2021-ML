{
 "cells": [
  {
   "cell_type": "code",
   "execution_count": 3,
   "metadata": {
    "id": "r43pJCz-n8vP"
   },
   "outputs": [],
   "source": [
    "import numpy as np\n",
    "import pandas as pd\n",
    "from tensorflow.keras.utils import to_categorical\n",
    "np.random.seed(1)"
   ]
  },
  {
   "cell_type": "code",
   "execution_count": 4,
   "metadata": {
    "id": "vlDNq1x_n8vS"
   },
   "outputs": [],
   "source": [
    "from tensorflow.keras.datasets import mnist\n",
    "(X_train_image, y_train_label),\\\n",
    "    (X_test_image, y_test_label) = mnist.load_data()"
   ]
  },
  {
   "cell_type": "code",
   "execution_count": 5,
   "metadata": {
    "id": "ms3N-1iUn8vX"
   },
   "outputs": [],
   "source": [
    "X_Train = X_train_image.reshape(60000, 784).astype('float32')\n",
    "X_Test = X_test_image.reshape(10000, 784).astype('float32')"
   ]
  },
  {
   "cell_type": "code",
   "execution_count": 6,
   "metadata": {
    "id": "NDMKuvtIn8vY"
   },
   "outputs": [],
   "source": [
    "X_Train_normalize = X_Train / 255\n",
    "X_Test_normalize = X_Test / 255"
   ]
  },
  {
   "cell_type": "code",
   "execution_count": 7,
   "metadata": {
    "id": "Am_djE9Cn8vY"
   },
   "outputs": [],
   "source": [
    "y_TrainOneHot = to_categorical(y_train_label)\n",
    "y_TestOneHot = to_categorical(y_test_label)"
   ]
  },
  {
   "cell_type": "code",
   "execution_count": 8,
   "metadata": {
    "id": "6t3RUk-wn8vZ"
   },
   "outputs": [],
   "source": [
    "from tensorflow.keras import layers, metrics\n",
    "from tensorflow.keras import models\n",
    "import tensorflow as tf"
   ]
  },
  {
   "cell_type": "code",
   "execution_count": 9,
   "metadata": {
    "id": "RJKfB6H8n8vZ"
   },
   "outputs": [],
   "source": [
    "tf.random.set_seed(1)\n",
    "model = models.Sequential()"
   ]
  },
  {
   "cell_type": "code",
   "execution_count": 10,
   "metadata": {
    "id": "2bCNDEF7n8vZ"
   },
   "outputs": [],
   "source": [
    "#2. 1層hidden layer\n",
    "model.add(layers.Dense(289, input_dim = 784, kernel_initializer = 'normal', activation = 'relu'))"
   ]
  },
  {
   "cell_type": "code",
   "execution_count": 11,
   "metadata": {
    "id": "4cgofZ9Yn8va"
   },
   "outputs": [],
   "source": [
    "model.add(layers.Dense(10, kernel_initializer = 'normal', activation = 'softmax'))"
   ]
  },
  {
   "cell_type": "code",
   "execution_count": 12,
   "metadata": {
    "id": "CNMv_62tn8va"
   },
   "outputs": [],
   "source": [
    "model.compile(loss = 'categorical_crossentropy', optimizer = 'adam',metrics = ['accuracy'])"
   ]
  },
  {
   "cell_type": "code",
   "execution_count": 17,
   "metadata": {
    "id": "A9mb8zN3n8va"
   },
   "outputs": [
    {
     "name": "stdout",
     "output_type": "stream",
     "text": [
      "Epoch 1/13\n",
      "134/134 - 1s - loss: 0.0254 - accuracy: 0.9948 - val_loss: 0.0768 - val_accuracy: 0.9771\n",
      "Epoch 2/13\n",
      "134/134 - 1s - loss: 0.0216 - accuracy: 0.9957 - val_loss: 0.0778 - val_accuracy: 0.9773\n",
      "Epoch 3/13\n",
      "134/134 - 1s - loss: 0.0190 - accuracy: 0.9963 - val_loss: 0.0764 - val_accuracy: 0.9777\n",
      "Epoch 4/13\n",
      "134/134 - 1s - loss: 0.0168 - accuracy: 0.9972 - val_loss: 0.0756 - val_accuracy: 0.9772\n",
      "Epoch 5/13\n",
      "134/134 - 1s - loss: 0.0146 - accuracy: 0.9977 - val_loss: 0.0742 - val_accuracy: 0.9785\n",
      "Epoch 6/13\n",
      "134/134 - 1s - loss: 0.0123 - accuracy: 0.9983 - val_loss: 0.0774 - val_accuracy: 0.9777\n",
      "Epoch 7/13\n",
      "134/134 - 1s - loss: 0.0108 - accuracy: 0.9986 - val_loss: 0.0776 - val_accuracy: 0.9773\n",
      "Epoch 8/13\n",
      "134/134 - 1s - loss: 0.0094 - accuracy: 0.9989 - val_loss: 0.0765 - val_accuracy: 0.9783\n",
      "Epoch 9/13\n",
      "134/134 - 1s - loss: 0.0080 - accuracy: 0.9993 - val_loss: 0.0764 - val_accuracy: 0.9787\n",
      "Epoch 10/13\n",
      "134/134 - 1s - loss: 0.0069 - accuracy: 0.9996 - val_loss: 0.0794 - val_accuracy: 0.9778\n",
      "Epoch 11/13\n",
      "134/134 - 1s - loss: 0.0061 - accuracy: 0.9997 - val_loss: 0.0780 - val_accuracy: 0.9783\n",
      "Epoch 12/13\n",
      "134/134 - 1s - loss: 0.0056 - accuracy: 0.9996 - val_loss: 0.0805 - val_accuracy: 0.9779\n",
      "Epoch 13/13\n",
      "134/134 - 1s - loss: 0.0049 - accuracy: 0.9997 - val_loss: 0.0785 - val_accuracy: 0.9780\n"
     ]
    }
   ],
   "source": [
    "#1. 驗證方式: hold-out validation 8:2 \n",
    "train_history = model.fit(x = X_Train_normalize, y = y_TrainOneHot,\n",
    "                            validation_split = 0.2, epochs = 13, batch_size = 360,\n",
    "                            verbose = 2)"
   ]
  },
  {
   "cell_type": "code",
   "execution_count": 18,
   "metadata": {
    "id": "FpMOSWR2n8vc"
   },
   "outputs": [
    {
     "name": "stdout",
     "output_type": "stream",
     "text": [
      "313/313 [==============================] - 1s 2ms/step - loss: 0.0678 - accuracy: 0.9798\n",
      "\n",
      "accuracy =  0.9797999858856201\n"
     ]
    }
   ],
   "source": [
    "#3.accuracy\n",
    "scores = model.evaluate(X_Test_normalize, y_TestOneHot)\n",
    "print()\n",
    "print('accuracy = ', scores[1])"
   ]
  },
  {
   "cell_type": "code",
   "execution_count": 19,
   "metadata": {},
   "outputs": [],
   "source": [
    "prediction = np.argmax(model.predict(X_Test), axis = -1)"
   ]
  },
  {
   "cell_type": "code",
   "execution_count": 20,
   "metadata": {},
   "outputs": [
    {
     "data": {
      "text/html": [
       "<div>\n",
       "<style scoped>\n",
       "    .dataframe tbody tr th:only-of-type {\n",
       "        vertical-align: middle;\n",
       "    }\n",
       "\n",
       "    .dataframe tbody tr th {\n",
       "        vertical-align: top;\n",
       "    }\n",
       "\n",
       "    .dataframe thead th {\n",
       "        text-align: right;\n",
       "    }\n",
       "</style>\n",
       "<table border=\"1\" class=\"dataframe\">\n",
       "  <thead>\n",
       "    <tr style=\"text-align: right;\">\n",
       "      <th>predict</th>\n",
       "      <th>0</th>\n",
       "      <th>1</th>\n",
       "      <th>2</th>\n",
       "      <th>3</th>\n",
       "      <th>4</th>\n",
       "      <th>5</th>\n",
       "      <th>6</th>\n",
       "      <th>7</th>\n",
       "      <th>8</th>\n",
       "      <th>9</th>\n",
       "    </tr>\n",
       "    <tr>\n",
       "      <th>label</th>\n",
       "      <th></th>\n",
       "      <th></th>\n",
       "      <th></th>\n",
       "      <th></th>\n",
       "      <th></th>\n",
       "      <th></th>\n",
       "      <th></th>\n",
       "      <th></th>\n",
       "      <th></th>\n",
       "      <th></th>\n",
       "    </tr>\n",
       "  </thead>\n",
       "  <tbody>\n",
       "    <tr>\n",
       "      <th>0</th>\n",
       "      <td>968</td>\n",
       "      <td>1</td>\n",
       "      <td>1</td>\n",
       "      <td>2</td>\n",
       "      <td>1</td>\n",
       "      <td>1</td>\n",
       "      <td>3</td>\n",
       "      <td>1</td>\n",
       "      <td>1</td>\n",
       "      <td>1</td>\n",
       "    </tr>\n",
       "    <tr>\n",
       "      <th>1</th>\n",
       "      <td>0</td>\n",
       "      <td>1126</td>\n",
       "      <td>4</td>\n",
       "      <td>0</td>\n",
       "      <td>0</td>\n",
       "      <td>1</td>\n",
       "      <td>2</td>\n",
       "      <td>0</td>\n",
       "      <td>2</td>\n",
       "      <td>0</td>\n",
       "    </tr>\n",
       "    <tr>\n",
       "      <th>2</th>\n",
       "      <td>2</td>\n",
       "      <td>1</td>\n",
       "      <td>1015</td>\n",
       "      <td>1</td>\n",
       "      <td>1</td>\n",
       "      <td>0</td>\n",
       "      <td>2</td>\n",
       "      <td>8</td>\n",
       "      <td>2</td>\n",
       "      <td>0</td>\n",
       "    </tr>\n",
       "    <tr>\n",
       "      <th>3</th>\n",
       "      <td>0</td>\n",
       "      <td>0</td>\n",
       "      <td>3</td>\n",
       "      <td>992</td>\n",
       "      <td>0</td>\n",
       "      <td>4</td>\n",
       "      <td>0</td>\n",
       "      <td>3</td>\n",
       "      <td>1</td>\n",
       "      <td>7</td>\n",
       "    </tr>\n",
       "    <tr>\n",
       "      <th>4</th>\n",
       "      <td>1</td>\n",
       "      <td>0</td>\n",
       "      <td>5</td>\n",
       "      <td>0</td>\n",
       "      <td>958</td>\n",
       "      <td>0</td>\n",
       "      <td>2</td>\n",
       "      <td>3</td>\n",
       "      <td>2</td>\n",
       "      <td>11</td>\n",
       "    </tr>\n",
       "    <tr>\n",
       "      <th>5</th>\n",
       "      <td>2</td>\n",
       "      <td>1</td>\n",
       "      <td>0</td>\n",
       "      <td>9</td>\n",
       "      <td>0</td>\n",
       "      <td>867</td>\n",
       "      <td>4</td>\n",
       "      <td>1</td>\n",
       "      <td>4</td>\n",
       "      <td>4</td>\n",
       "    </tr>\n",
       "    <tr>\n",
       "      <th>6</th>\n",
       "      <td>6</td>\n",
       "      <td>2</td>\n",
       "      <td>1</td>\n",
       "      <td>1</td>\n",
       "      <td>2</td>\n",
       "      <td>4</td>\n",
       "      <td>942</td>\n",
       "      <td>0</td>\n",
       "      <td>0</td>\n",
       "      <td>0</td>\n",
       "    </tr>\n",
       "    <tr>\n",
       "      <th>7</th>\n",
       "      <td>0</td>\n",
       "      <td>5</td>\n",
       "      <td>11</td>\n",
       "      <td>2</td>\n",
       "      <td>0</td>\n",
       "      <td>0</td>\n",
       "      <td>0</td>\n",
       "      <td>1004</td>\n",
       "      <td>0</td>\n",
       "      <td>6</td>\n",
       "    </tr>\n",
       "    <tr>\n",
       "      <th>8</th>\n",
       "      <td>2</td>\n",
       "      <td>0</td>\n",
       "      <td>3</td>\n",
       "      <td>9</td>\n",
       "      <td>4</td>\n",
       "      <td>1</td>\n",
       "      <td>3</td>\n",
       "      <td>4</td>\n",
       "      <td>943</td>\n",
       "      <td>5</td>\n",
       "    </tr>\n",
       "    <tr>\n",
       "      <th>9</th>\n",
       "      <td>1</td>\n",
       "      <td>4</td>\n",
       "      <td>0</td>\n",
       "      <td>4</td>\n",
       "      <td>7</td>\n",
       "      <td>2</td>\n",
       "      <td>1</td>\n",
       "      <td>3</td>\n",
       "      <td>1</td>\n",
       "      <td>986</td>\n",
       "    </tr>\n",
       "  </tbody>\n",
       "</table>\n",
       "</div>"
      ],
      "text/plain": [
       "predict    0     1     2    3    4    5    6     7    8    9\n",
       "label                                                       \n",
       "0        968     1     1    2    1    1    3     1    1    1\n",
       "1          0  1126     4    0    0    1    2     0    2    0\n",
       "2          2     1  1015    1    1    0    2     8    2    0\n",
       "3          0     0     3  992    0    4    0     3    1    7\n",
       "4          1     0     5    0  958    0    2     3    2   11\n",
       "5          2     1     0    9    0  867    4     1    4    4\n",
       "6          6     2     1    1    2    4  942     0    0    0\n",
       "7          0     5    11    2    0    0    0  1004    0    6\n",
       "8          2     0     3    9    4    1    3     4  943    5\n",
       "9          1     4     0    4    7    2    1     3    1  986"
      ]
     },
     "execution_count": 20,
     "metadata": {},
     "output_type": "execute_result"
    }
   ],
   "source": [
    "#4.混亂矩陣\n",
    "pd.crosstab(y_test_label, prediction, rownames = ['label'], colnames = ['predict'])"
   ]
  },
  {
   "cell_type": "code",
   "execution_count": null,
   "metadata": {},
   "outputs": [],
   "source": []
  }
 ],
 "metadata": {
  "accelerator": "GPU",
  "colab": {
   "collapsed_sections": [],
   "name": "MNIST_MLP.ipynb",
   "provenance": []
  },
  "kernelspec": {
   "display_name": "myenv",
   "language": "python",
   "name": "myenv"
  },
  "language_info": {
   "codemirror_mode": {
    "name": "ipython",
    "version": 3
   },
   "file_extension": ".py",
   "mimetype": "text/x-python",
   "name": "python",
   "nbconvert_exporter": "python",
   "pygments_lexer": "ipython3",
   "version": "3.8.8"
  }
 },
 "nbformat": 4,
 "nbformat_minor": 1
}
